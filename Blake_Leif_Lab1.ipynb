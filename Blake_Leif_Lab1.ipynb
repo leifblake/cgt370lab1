{
  "nbformat": 4,
  "nbformat_minor": 0,
  "metadata": {
    "colab": {
      "provenance": [],
      "collapsed_sections": [
        "n4Ii7zeVtJbq"
      ],
      "include_colab_link": true
    },
    "kernelspec": {
      "name": "python3",
      "display_name": "Python 3"
    },
    "language_info": {
      "name": "python"
    }
  },
  "cells": [
    {
      "cell_type": "markdown",
      "metadata": {
        "id": "view-in-github",
        "colab_type": "text"
      },
      "source": [
        "<a href=\"https://colab.research.google.com/github/leifblake/cgt370lab1/blob/main/Blake_Leif_Lab1.ipynb\" target=\"_parent\"><img src=\"https://colab.research.google.com/assets/colab-badge.svg\" alt=\"Open In Colab\"/></a>"
      ]
    },
    {
      "cell_type": "markdown",
      "source": [
        "#Lab1 Python Basics\n",
        "##Leif Blake\n",
        "\n"
      ],
      "metadata": {
        "id": "G94t3Pe2seJo"
      }
    },
    {
      "cell_type": "code",
      "source": [
        "numbers_list = [10, 15, 20, 10, 25, 30, 15, 40, 10]"
      ],
      "metadata": {
        "id": "9Xw7ocCdsWsr"
      },
      "execution_count": null,
      "outputs": []
    },
    {
      "cell_type": "markdown",
      "source": [
        "\n",
        "*   Task 1: Write a function that removes the duplicates in numbers_list\n",
        "*   Task 2: Write a function that calculates the sum and avarage of numbers_list.\n"
      ],
      "metadata": {
        "id": "n4Ii7zeVtJbq"
      }
    },
    {
      "cell_type": "markdown",
      "source": [
        "##Solution to Task 1"
      ],
      "metadata": {
        "id": "vyq1bTTxEefG"
      }
    },
    {
      "cell_type": "code",
      "source": [
        "numbers_list = [10, 15, 20, 10, 25, 30, 15, 40, 10]\n",
        "\n",
        "def remove_duplicates(numbers_list):\n",
        "    seen = set()\n",
        "    unique_numbers = []\n",
        "    for number in numbers_list:\n",
        "        if number not in seen:\n",
        "            unique_numbers.append(number)\n",
        "            seen.add(number)\n",
        "    return unique_numbers\n",
        "\n",
        "result = remove_duplicates(numbers_list)\n",
        "print(result)"
      ],
      "metadata": {
        "colab": {
          "base_uri": "https://localhost:8080/"
        },
        "id": "kAcUlUeAEogv",
        "outputId": "f2cc2cc0-7909-48b9-8bd5-ad7ab062a22d"
      },
      "execution_count": null,
      "outputs": [
        {
          "output_type": "stream",
          "name": "stdout",
          "text": [
            "[10, 15, 20, 25, 30, 40]\n"
          ]
        }
      ]
    },
    {
      "cell_type": "markdown",
      "source": [
        "##Solution to Task 2"
      ],
      "metadata": {
        "id": "J6Ew_D7CFnBA"
      }
    },
    {
      "cell_type": "code",
      "source": [
        "numbers_list = [10, 15, 20, 10, 25, 30, 15, 40, 10]\n",
        "\n",
        "def calculate_sum_and_average(numbers_list):\n",
        "    total = sum(numbers_list)\n",
        "    average = total / len(numbers_list) if numbers_list else 0\n",
        "    return total, average\n",
        "\n",
        "total, average = calculate_sum_and_average(numbers_list)\n",
        "print(f\"Sum: {total}, Average: {average}\")"
      ],
      "metadata": {
        "colab": {
          "base_uri": "https://localhost:8080/"
        },
        "id": "ylT0580FF44t",
        "outputId": "8eb2d85a-8853-473e-b952-1dc5ebd1670c"
      },
      "execution_count": null,
      "outputs": [
        {
          "output_type": "stream",
          "name": "stdout",
          "text": [
            "Sum: 175, Average: 19.444444444444443\n"
          ]
        }
      ]
    },
    {
      "cell_type": "code",
      "source": [
        "names_tuple = (\"Alice\", \"bob\", \"CHARLIE\", \"dave\", \"eve\", \"Frank\")"
      ],
      "metadata": {
        "id": "BEMYx1IptSkV"
      },
      "execution_count": null,
      "outputs": []
    },
    {
      "cell_type": "markdown",
      "source": [
        "*   Task 3: Write a function that converts all names to title case (e.g., \"bob\" → \"Bob\") and returns a new tuple.\n",
        "*   Task 4: Write a function that filters out any names that are shorter than 4 characters."
      ],
      "metadata": {
        "id": "6bRFAHFiuMCV"
      }
    },
    {
      "cell_type": "markdown",
      "source": [
        "##Solution to Task 3"
      ],
      "metadata": {
        "id": "C9jamnooGUAr"
      }
    },
    {
      "cell_type": "code",
      "source": [
        "names_tuple = (\"Alice\", \"bob\", \"CHARLIE\", \"dave\", \"eve\", \"Frank\")\n",
        "\n",
        "def convert_to_title_case(names_tuple):\n",
        "    return tuple(name.title() for name in names_tuple)\n",
        "\n",
        "result = convert_to_title_case(names_tuple)\n",
        "print(result)"
      ],
      "metadata": {
        "colab": {
          "base_uri": "https://localhost:8080/"
        },
        "id": "BQIcfAGvGY-W",
        "outputId": "a063fde0-51e3-4911-f133-2f13015d68b1"
      },
      "execution_count": null,
      "outputs": [
        {
          "output_type": "stream",
          "name": "stdout",
          "text": [
            "('Alice', 'Bob', 'Charlie', 'Dave', 'Eve', 'Frank')\n"
          ]
        }
      ]
    },
    {
      "cell_type": "markdown",
      "source": [
        "##Solution to Task 4"
      ],
      "metadata": {
        "id": "RRheKE1tGs8w"
      }
    },
    {
      "cell_type": "code",
      "source": [
        "names_tuple = (\"Alice\", \"bob\", \"CHARLIE\", \"dave\", \"eve\", \"Frank\")\n",
        "\n",
        "def filter_short_names(names_tuple):\n",
        "    return tuple(name for name in names_tuple if len(name) >= 4)\n",
        "\n",
        "\n",
        "result = filter_short_names(names_tuple)\n",
        "print(result)"
      ],
      "metadata": {
        "colab": {
          "base_uri": "https://localhost:8080/"
        },
        "id": "lz7JciUFGw6X",
        "outputId": "c079fbbb-a0fa-45d4-db58-e88a3692a104"
      },
      "execution_count": null,
      "outputs": [
        {
          "output_type": "stream",
          "name": "stdout",
          "text": [
            "('Alice', 'CHARLIE', 'dave', 'Frank')\n"
          ]
        }
      ]
    },
    {
      "cell_type": "code",
      "source": [
        "student_grades = {\n",
        "    \"Alice\": [85, 92, 78],\n",
        "    \"Bob\": [79, 84, 88],\n",
        "    \"Charlie\": [95, 98, 92],\n",
        "    \"David\": [60, 65, 58],\n",
        "    \"Eva\": [88, 90, 85],\n",
        "}"
      ],
      "metadata": {
        "id": "SBqDoyFzuLS1"
      },
      "execution_count": null,
      "outputs": []
    },
    {
      "cell_type": "markdown",
      "source": [
        "*   Task 5: Write a function that calculates the average grade for each student in student_grades and returns a dictionary with the student name as the key and their average grade as the value.\n",
        "*   Task 6: Write a function that identifies students whose average grade is below 70 and returns their names in a list."
      ],
      "metadata": {
        "id": "AhTke5rGug-v"
      }
    },
    {
      "cell_type": "markdown",
      "source": [
        "##Solution to Task 5"
      ],
      "metadata": {
        "id": "SiUxcCL-HGuK"
      }
    },
    {
      "cell_type": "code",
      "source": [
        "student_grades = {\n",
        "    \"Alice\": [85, 92, 78],\n",
        "    \"Bob\": [79, 84, 88],\n",
        "    \"Charlie\": [95, 98, 92],\n",
        "    \"David\": [60, 65, 58],\n",
        "    \"Eva\": [88, 90, 85],\n",
        "}\n",
        "\n",
        "def calculate_average_grades(student_grades):\n",
        "    return {student: sum(grades) / len(grades) for student, grades in student_grades.items()}\n",
        "\n",
        "average_grades = calculate_average_grades(student_grades)\n",
        "print(average_grades)"
      ],
      "metadata": {
        "id": "6PVTF-eDu3V0",
        "colab": {
          "base_uri": "https://localhost:8080/"
        },
        "outputId": "c2ffc6fe-a5b2-455e-d546-810a4a1ba022"
      },
      "execution_count": null,
      "outputs": [
        {
          "output_type": "stream",
          "name": "stdout",
          "text": [
            "{'Alice': 85.0, 'Bob': 83.66666666666667, 'Charlie': 95.0, 'David': 61.0, 'Eva': 87.66666666666667}\n"
          ]
        }
      ]
    },
    {
      "cell_type": "markdown",
      "source": [
        "##Solution for Task 6"
      ],
      "metadata": {
        "id": "VkPjDtdJHbB4"
      }
    },
    {
      "cell_type": "code",
      "source": [
        "student_grades = {\n",
        "    \"Alice\": [85, 92, 78],\n",
        "    \"Bob\": [79, 84, 88],\n",
        "    \"Charlie\": [95, 98, 92],\n",
        "    \"David\": [60, 65, 58],\n",
        "    \"Eva\": [88, 90, 85],\n",
        "}\n",
        "\n",
        "def identify_students_below_threshold(student_grades, threshold=70):\n",
        "    below_threshold = [\n",
        "        student for student, grades in student_grades.items()\n",
        "        if sum(grades) / len(grades) < threshold\n",
        "    ]\n",
        "    return below_threshold\n",
        "\n",
        "students_below_70 = identify_students_below_threshold(student_grades)\n",
        "print(students_below_70)"
      ],
      "metadata": {
        "colab": {
          "base_uri": "https://localhost:8080/"
        },
        "id": "FONRmobTHRgP",
        "outputId": "e0c47e3e-56dd-4dad-e33c-26adfb61eb07"
      },
      "execution_count": null,
      "outputs": [
        {
          "output_type": "stream",
          "name": "stdout",
          "text": [
            "['David']\n"
          ]
        }
      ]
    },
    {
      "cell_type": "code",
      "source": [],
      "metadata": {
        "id": "1ummuBwaHvR3"
      },
      "execution_count": null,
      "outputs": []
    }
  ]
}